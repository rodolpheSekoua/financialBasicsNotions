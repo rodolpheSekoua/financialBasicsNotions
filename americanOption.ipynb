{
 "cells": [
  {
   "cell_type": "code",
   "execution_count": 64,
   "metadata": {},
   "outputs": [],
   "source": [
    "import pandas as pd\n",
    "import numpy as np\n",
    "import tensorflow as tf"
   ]
  },
  {
   "cell_type": "code",
   "execution_count": 65,
   "metadata": {},
   "outputs": [
    {
     "output_type": "stream",
     "name": "stdout",
     "text": "The tensorboard extension is already loaded. To reload it, use:\n  %reload_ext tensorboard\n"
    }
   ],
   "source": [
    "%load_ext tensorboard"
   ]
  },
  {
   "cell_type": "markdown",
   "metadata": {},
   "source": [
    "# Introduction "
   ]
  },
  {
   "cell_type": "markdown",
   "metadata": {},
   "source": [
    "Previous, I highlighted some basics notions in finance , how interpret and evaluate greeks when relevant informations is avaible on some derivatives.\n",
    "I think finance is not a science instead of a life because It helps to price almost anything goods in the society and eases the trade around over the world.\n",
    "In the context, I want to talk about the american option one of the interesting good in finance because it is sometimes difficult to modelize it when you fear the demonstration.\n",
    "The idea of this notebook , it is to make easy some difficult thing on option."
   ]
  },
  {
   "cell_type": "markdown",
   "metadata": {},
   "source": [
    "# American Option"
   ]
  },
  {
   "cell_type": "markdown",
   "metadata": {},
   "source": [
    "American option it is an option for which the owner have the right to start his option at any time between the starting date and the maturity.\n",
    "\n",
    "Formally its price is given by the following optimal stopping time problem.\n",
    "$$ P = \\sup\\limits_{\\tau} \\mathbb{E}[Z_{\\tau}] $$\n",
    "with $\\tau$ as stopping time in $[0,T]$.\n",
    "\n",
    "where $\\tau$, describe all discrete stopping time at which the owner can exercise his right if he want when you assume the owner want to do lot of money."
   ]
  },
  {
   "cell_type": "markdown",
   "metadata": {},
   "source": [
    "This previous formula is fearsome and does not describe the strategy to make money easily. You can read the litterature to have a better demonstration of how the formula can be expressed with dynamic programming using a rationale reasoning.\n",
    "\n",
    "In my concern, I explain  the formula to have a better understanding of strategy to make money with american option. \n",
    "\n",
    "The formula is designed as following :\n",
    "$$ V_N = g(S_N) $$ \n",
    "$$ V_{k-1} = \\sup \\left\\{ g(S_{k-1}) , \\mathbb{E} \\left[ V_{k} | \\mathcal{F}_{k-1}  \\right] \\right\\} $$\n",
    "with $g$ a payoff function.\n",
    "\n",
    "\n",
    "According the formula, when you know the payoff of the option, you're back at previous time before maturity, you evaluate your opportunity thanks this question, I exercise my right or not. If you think you make money at this time exercise else wait the maturity.\n",
    "So you can apply this reasoning at anytime before the maturity to make money.\n",
    "\n",
    "**NB** : For a call option, the best strategy is to wait for maturity and make money."
   ]
  },
  {
   "cell_type": "markdown",
   "metadata": {},
   "source": [
    "# Computation"
   ]
  },
  {
   "cell_type": "code",
   "execution_count": null,
   "metadata": {},
   "outputs": [],
   "source": [
    "logs_base_dir = \"./logs\"\n",
    "os.makedirs(logs_base_dir, exist_ok=True)\n",
    "%tensorboard --logdir {logs_base_dir}"
   ]
  },
  {
   "cell_type": "code",
   "execution_count": null,
   "metadata": {},
   "outputs": [],
   "source": [
    "sys.path.append(\"/Users/mac/Downloads/OneDrive_1_23-04-2020/logs\")"
   ]
  },
  {
   "cell_type": "code",
   "execution_count": null,
   "metadata": {},
   "outputs": [],
   "source": [
    "from amOp import *\n",
    "import matplotlib.pyplot as plt\n",
    "%matplotlib inline\n",
    "\n",
    "verbose = True\n",
    "preTrain = False\n",
    "def priceAmericanBS(S_0, drift, implied_vol, maturity, Strike, regressor):\n",
    "    #Simulate paths and initialize variables\n",
    "    nbPaths = 10000\n",
    "    nbCallDates = 36\n",
    "    time_step = maturity / nbCallDates\n",
    "    time_grid = generate_time_grid(time_step, T)\n",
    "    \n",
    "    #Generate paths\n",
    "    paths = simulate(time_grid, time_step, nbPaths, drift, implied_vol, S_0)\n",
    "    \n",
    "    #Compute discount factors between two exercise dates\n",
    "    stepDiscountingFactor = np.exp(-drift * time_step)\n",
    "    \n",
    "    #Initialize option value grid and compute Payoff for terminal date \n",
    "    continuationValueGrid = np.zeros_like(paths)\n",
    "    continuationValueGrid[:,-1] = np.maximum(paths[:,-1] - Strike,0)\n",
    "    tau = np.ones_like(continuationValueGrid[:,-1]) * (-1)\n",
    "    \n",
    "    priceRes = None\n",
    "    #Iterate backward on dates\n",
    "    figAdd = []\n",
    "    for k in np.arange(len(time_grid)-1)[::-1]:\n",
    "        #Determine the payoff for exercise date k\n",
    "        payoff = np.maximum(paths[:,k] - Strike,0)\n",
    "\n",
    "        if k > 0 :\n",
    "          #determine in the money paths\n",
    "          hasPositivePayoff = payoff > 0 \n",
    "          #Compute discounted V_{k + 1} paths\n",
    "          Y = stepDiscountingFactor * continuationValueGrid[:,k+1]\n",
    "          #Get underlying paths at time k\n",
    "          x = paths[:,k]\n",
    "\n",
    "          if verbose :\n",
    "            conditionalExpectation = polynomialRegressor(Y[hasPositivePayoff],\n",
    "                                                         x[hasPositivePayoff],\n",
    "                                                         x,\n",
    "                                                         preTrained=(k<len(time_grid)-2))\n",
    "            plt.plot(pd.Series(Y,index=x).sort_index(),label=\"Ref\")\n",
    "            plt.plot(pd.Series(conditionalExpectation,index=x).sort_index(),label=\"Polynomial\")\n",
    "\n",
    "          conditionalExpectation = regressor(Y[hasPositivePayoff],\n",
    "                                             x[hasPositivePayoff],\n",
    "                                             x,\n",
    "                                             preTrained=(k<len(time_grid)-2))\n",
    "          if verbose :\n",
    "            plt.plot(pd.Series(conditionalExpectation,index=x).sort_index(),label=\"Neural\")\n",
    "            plt.legend()\n",
    "            plt.show()\n",
    "\n",
    "          \n",
    "          #Decide on which paths the option is exercised\n",
    "          isCalled = (payoff >= conditionalExpectation) * hasPositivePayoff\n",
    "          \n",
    "          continuationValueGrid[:,k] = np.where(isCalled, \n",
    "                                                payoff, \n",
    "                                                stepDiscountingFactor * continuationValueGrid[:,k+1])\n",
    "\n",
    "          tau[isCalled] = k\n",
    "        else :\n",
    "          #Final Monte Carlo check if american option is not degenerate\n",
    "          priceRes = max(np.mean(continuationValueGrid[:,1] * stepDiscountingFactor), payoff[0])\n",
    "          variance = np.var(continuationValueGrid[:,1] * stepDiscountingFactor)\n",
    "          print(\"American call Price : \",priceRes)\n",
    "          print(\"Variance : \",variance)\n",
    "          print(\"European call Price : \",np.mean(continuationValueGrid[:,-1]) * np.exp(-drift * maturity))\n",
    "          \n",
    "    return priceRes"
   ]
  },
  {
   "cell_type": "code",
   "execution_count": null,
   "metadata": {},
   "outputs": [],
   "source": [
    "T = 1.0; b = 0.1; sigma=0.2; S0 = 100\n",
    "nbPaths = 10000\n",
    "\n",
    "p = priceAmericanBS(S0, b, sigma, T, 100, linearRegressor)"
   ]
  }
 ],
 "metadata": {
  "language_info": {
   "codemirror_mode": {
    "name": "ipython",
    "version": 3
   },
   "file_extension": ".py",
   "mimetype": "text/x-python",
   "name": "python",
   "nbconvert_exporter": "python",
   "pygments_lexer": "ipython3",
   "version": "3.7.6-final"
  },
  "orig_nbformat": 2,
  "kernelspec": {
   "name": "python37464bitbaseconda07fadcd232a745959bf0effd07d2e251",
   "display_name": "Python 3.7.4 64-bit ('base': conda)"
  }
 },
 "nbformat": 4,
 "nbformat_minor": 2
}